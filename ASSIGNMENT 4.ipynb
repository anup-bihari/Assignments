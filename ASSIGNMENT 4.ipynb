{
 "cells": [
  {
   "cell_type": "markdown",
   "metadata": {},
   "source": [
    "\n",
    "\n",
    "<div class=\"alert alert-block alert-info\">\n",
    "\n",
    "<table  style=\"width:100%;\">\n",
    "    <tr>\n",
    "        <td>\n",
    "<img align=\"left\" src=\"https://www.python-course.eu/images/python-logo.png\" style=\"width:200px;height=100px;\"/></td>\n",
    "<td><h1 align=\"left\"> Assignment 4 <br>Solution</h1></td>\n",
    "        <td> <h1><i>Date:15/09/2020</i></h1></td>\n",
    "        </table>\n",
    "    </div>"
   ]
  },
  {
   "cell_type": "code",
   "execution_count": 7,
   "metadata": {},
   "outputs": [
    {
     "name": "stdout",
     "output_type": "stream",
     "text": [
      "4\n",
      "4\n",
      "4\n",
      "6.928203230275509\n"
     ]
    }
   ],
   "source": [
    "#                                              ASSIGNMENT 4\n",
    "# 1.1 Write a Python Program(with class concepts) to find the area of the triangle using the below\n",
    "# formula.\n",
    "# area = (s*(s-a)*(s-b)*(s-c)) ** 0.5\n",
    "# Function to take the length of the sides of triangle from user should be defined in the parent\n",
    "# class and function to calculate the area should be defined in subclass.\n",
    "\n",
    "class triangle:\n",
    "    \n",
    "    def __init__(self,a,b,c):\n",
    "        self.side1=a\n",
    "        self.side2=b\n",
    "        self.side3=c\n",
    "\n",
    "    \n",
    "class calculate_area(triangle):\n",
    "    def __init__(self,side1,side2,side3):\n",
    "        super().__init__(side1,side2,side3)\n",
    "    \n",
    "    def area_of_triangle(self):\n",
    "        s=(self.side1+self.side2+self.side3)/2\n",
    "        area=(s*(s-side1)*(s-side2)*(s-side3))**0.5\n",
    "        return area\n",
    "    \n",
    "side1=int(input())\n",
    "side2=int(input())\n",
    "side3=int(input())\n",
    "\n",
    "obj=calculate_area(side1,side2,side3)\n",
    "ara=obj.area_of_triangle()\n",
    "print(ara)\n",
    "    \n",
    "\n"
   ]
  },
  {
   "cell_type": "code",
   "execution_count": 33,
   "metadata": {},
   "outputs": [
    {
     "data": {
      "text/plain": [
       "['bihari', 'gaurav']"
      ]
     },
     "execution_count": 33,
     "metadata": {},
     "output_type": "execute_result"
    }
   ],
   "source": [
    "# 1.2 Write a function filter_long_words() that takes a list of words and an integer n and returns\n",
    "# the list of words that are longer than n.\n",
    "\n",
    "def filter_long_words(lst_string,n):\n",
    "    result=[]\n",
    "    for i in lst_string:\n",
    "        if len(i)>n:\n",
    "            result.append(i)\n",
    "    return result\n",
    "filter_long_words(['anup','bihari','gaurav'],4)\n"
   ]
  },
  {
   "cell_type": "code",
   "execution_count": 32,
   "metadata": {},
   "outputs": [
    {
     "data": {
      "text/plain": [
       "[4, 6, 6]"
      ]
     },
     "execution_count": 32,
     "metadata": {},
     "output_type": "execute_result"
    }
   ],
   "source": [
    "# 2.1 Write a Python program using function concept that maps list of words into a list of integers\n",
    "# representing the lengths of the corresponding words.\n",
    "# Hint: If a list [ ab,cde,erty] is passed on to the python function output should come as [2,3,4]\n",
    "# Here 2,3 and 4 are the lengths of the words in the list.\n",
    "\n",
    "def len_of_word(ss):\n",
    "    output=[]\n",
    "    for i in ss:\n",
    "        output.append(len(i))\n",
    "    return output\n",
    "\n",
    "len_of_word(['anup','bihari','gaurav'])\n"
   ]
  },
  {
   "cell_type": "code",
   "execution_count": 21,
   "metadata": {},
   "outputs": [
    {
     "data": {
      "text/plain": [
       "True"
      ]
     },
     "execution_count": 21,
     "metadata": {},
     "output_type": "execute_result"
    }
   ],
   "source": [
    "# 2.2 Write a Python function which takes a character (i.e. a string of length 1) and returns True if\n",
    "# it is a vowel, False otherwise.\n",
    "\n",
    "def in_vowel(ch):\n",
    "    vowel=['a','e','i','o','u','A','E','I','O','U']\n",
    "    return True if ch in vowel else False\n",
    "    \n",
    "in_vowel('o')"
   ]
  },
  {
   "cell_type": "code",
   "execution_count": null,
   "metadata": {},
   "outputs": [],
   "source": []
  }
 ],
 "metadata": {
  "kernelspec": {
   "display_name": "Python 3",
   "language": "python",
   "name": "python3"
  },
  "language_info": {
   "codemirror_mode": {
    "name": "ipython",
    "version": 3
   },
   "file_extension": ".py",
   "mimetype": "text/x-python",
   "name": "python",
   "nbconvert_exporter": "python",
   "pygments_lexer": "ipython3",
   "version": "3.7.4"
  }
 },
 "nbformat": 4,
 "nbformat_minor": 4
}
