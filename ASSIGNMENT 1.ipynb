{
 "cells": [
  {
   "cell_type": "markdown",
   "metadata": {},
   "source": [
    "\n",
    "\n",
    "<div class=\"alert alert-block alert-info\">\n",
    "\n",
    "<table  style=\"width:100%;\">\n",
    "    <tr>\n",
    "        <td>\n",
    "<img align=\"left\" src=\"https://www.python-course.eu/images/python-logo.png\" style=\"width:200px;height=100px;\"/></td>\n",
    "<td><h1 align=\"left\"> Assignment 1 <br>Solution</h1></td>\n",
    "        <td> <h1><i>Date:30/08/2020</i></h1></td>\n",
    "        </table>\n",
    "    </div>"
   ]
  },
  {
   "cell_type": "code",
   "execution_count": 4,
   "metadata": {},
   "outputs": [],
   "source": [
    "#                                              ASSIGNMENT 1\n",
    "\n",
    "\n",
    "\n",
    "# 1. Write a program which will find all such numbers which are divisible by 7 but are not a\n",
    "# multiple of 5, between 2000 and 3200 (both included). The numbers obtained should be printed\n",
    "# in a comma-separated sequence on a single line.\n",
    "\n",
    "def div7nt5():\n",
    "    lis=[]\n",
    "    for i in range(2000,3200+1):\n",
    "        if i%7==0 and i%5!=0:\n",
    "            lis.append(str(i))\n",
    "    print(\",\".join(lis))\n",
    "div7nt5()"
   ]
  },
  {
   "cell_type": "code",
   "execution_count": 25,
   "metadata": {},
   "outputs": [],
   "source": [
    "# 2.Write a Python program to accept the user's first and last name and then getting them\n",
    "# printed in the the reverse order with a space between first name and last name.\n",
    "\n",
    "def printfirstlast():\n",
    "    first=input()\n",
    "    last=input()\n",
    "    print(\"Fullname in reverse order is \",last+\" \"+first)\n",
    "printfirstlast()"
   ]
  },
  {
   "cell_type": "code",
   "execution_count": 30,
   "metadata": {},
   "outputs": [],
   "source": [
    "# 3.Write a Python program to find the volume of a sphere with diameter 12 cm\n",
    "# Formula: V=4/3 * π * r\n",
    "\n",
    "def volsphere():\n",
    "    radius=12//2\n",
    "    volume=(4/3)*3.14*radius**3\n",
    "    print(\"Volume of sphere with given diameter 12 = \",\"{:.3f}\".format(volume))\n",
    "volsphere()"
   ]
  },
  {
   "cell_type": "code",
   "execution_count": null,
   "metadata": {},
   "outputs": [],
   "source": []
  }
 ],
 "metadata": {
  "kernelspec": {
   "display_name": "Python 3",
   "language": "python",
   "name": "python3"
  },
  "language_info": {
   "codemirror_mode": {
    "name": "ipython",
    "version": 3
   },
   "file_extension": ".py",
   "mimetype": "text/x-python",
   "name": "python",
   "nbconvert_exporter": "python",
   "pygments_lexer": "ipython3",
   "version": "3.7.4"
  }
 },
 "nbformat": 4,
 "nbformat_minor": 4
}
