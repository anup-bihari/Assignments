{
 "cells": [
  {
   "cell_type": "markdown",
   "metadata": {},
   "source": [
    "\n",
    "\n",
    "<div class=\"alert alert-block alert-info\">\n",
    "\n",
    "<table  style=\"width:100%;\">\n",
    "    <tr>\n",
    "        <td>\n",
    "<img align=\"left\" src=\"https://www.python-course.eu/images/python-logo.png\" style=\"width:200px;height=100px;\"/></td>\n",
    "<td><h1 align=\"left\"> Assignment 3 <br>Solution</h1></td>\n",
    "        <td> <h1><i>Date:15/09/2020</i></h1></td>\n",
    "        </table>\n",
    "    </div>"
   ]
  },
  {
   "cell_type": "code",
   "execution_count": 11,
   "metadata": {},
   "outputs": [
    {
     "data": {
      "text/plain": [
       "120"
      ]
     },
     "execution_count": 11,
     "metadata": {},
     "output_type": "execute_result"
    }
   ],
   "source": [
    "#                                              ASSIGNMENT 3\n",
    "\n",
    "\n",
    "# 1.1 Write a Python Program to implement your own myreduce() function which works exactly\n",
    "# like Python's built-in function reduce()\n",
    "\n",
    "def my_add(a1,a2):\n",
    "    return a1+a2\n",
    "def my_mul(a1,a2):\n",
    "    return a1*a2\n",
    "\n",
    "def myreduce(func,iterable):\n",
    "    result=iterable[0]\n",
    "    for i in iterable[1:]:\n",
    "        result=func(result,i)\n",
    "    return result\n",
    "    \n",
    "    \n",
    "\n",
    "myreduce(my_mul,[1,2,3,4,5])\n"
   ]
  },
  {
   "cell_type": "code",
   "execution_count": 12,
   "metadata": {},
   "outputs": [
    {
     "data": {
      "text/plain": [
       "[1, 3, 5]"
      ]
     },
     "execution_count": 12,
     "metadata": {},
     "output_type": "execute_result"
    }
   ],
   "source": [
    "# Write a Python program to implement your own myfilter() function which works exactly\n",
    "# like Python's built-in function filter()\n",
    "\n",
    "def is_even(x):\n",
    "    return (not(x&1))\n",
    "\n",
    "def is_odd(x):\n",
    "    return (x&1)\n",
    " \n",
    "def my_filter(func,iterable):\n",
    "    result=[]\n",
    "    for i in iterable:\n",
    "        if func(i):\n",
    "            result.append(i)\n",
    "    return result\n",
    "    \n",
    "my_filter(is_odd,[1,2,3,4,5])"
   ]
  },
  {
   "cell_type": "code",
   "execution_count": 2,
   "metadata": {},
   "outputs": [
    {
     "name": "stdout",
     "output_type": "stream",
     "text": [
      "['x', 'xx', 'xxx', 'xxxx', 'y', 'yy', 'yyy', 'yyyy', 'z', 'zz', 'zzz', 'zzzz']\n",
      "['x', 'y', 'z', 'xx', 'yy', 'zz', 'xxx', 'yyy', 'zzz', 'xxxx', 'yyyy', 'zzzz']\n",
      "[[2], [3], [4], [3], [4], [5], [4], [5], [6]] [[2, 3, 4, 5], [3, 4, 5, 6], [4, 5, 6, 7], [5, 6, 7, 8]]\n",
      "[(1, 1), (2, 1), (3, 1), (1, 2), (2, 2), (3, 2), (1, 3), (2, 3), (3, 3)]\n"
     ]
    }
   ],
   "source": [
    "# 2 Implement List comprehensions to produce the following lists.\n",
    "# Write List comprehensions to produce the following Lists\n",
    "# ['x', 'xx', 'xxx', 'xxxx', 'y', 'yy', 'yyy', 'yyyy', 'z', 'zz', 'zzz', 'zzzz']\n",
    "# ['x', 'y', 'z', 'xx', 'yy', 'zz', 'xxx', 'yyy', 'zzz', 'xxxx', 'yyyy', 'zzzz']\n",
    "# [[2], [3], [4], [3], [4], [5], [4], [5], [6]] [[2, 3, 4, 5], [3, 4, 5, 6],[4, 5, 6, 7], [5, 6, 7, 8]]\n",
    "# [(1, 1), (2, 1), (3, 1), (1, 2), (2, 2), (3, 2), (1, 3), (2, 3), (3, 3)]\n",
    "\n",
    "\n",
    "def listcomprehension():\n",
    "    val=[i*k for i in 'xyz' for k in range(1,5) ]\n",
    "    print(val)\n",
    "    cal=[i*k for k in range(1,5) for i in 'xyz' ]\n",
    "    print(cal)\n",
    "    lst=[]\n",
    "    ls1=[]\n",
    "    for i in range(2,5):\n",
    "        for j in range(3):\n",
    "            lst+=[[i]]\n",
    "            i+=1\n",
    "    for i in range(2,3):\n",
    "        for j in range(4):\n",
    "            ls1+=[list(range(i,i+4))]\n",
    "            i+=1\n",
    "    print(lst,ls1)\n",
    "    lii=[(j,i) for i in range(1,4) for j in range(1,4)]\n",
    "    print(lii)\n",
    "    \n",
    "listcomprehension()"
   ]
  },
  {
   "cell_type": "code",
   "execution_count": 30,
   "metadata": {},
   "outputs": [],
   "source": []
  },
  {
   "cell_type": "code",
   "execution_count": null,
   "metadata": {},
   "outputs": [],
   "source": []
  }
 ],
 "metadata": {
  "kernelspec": {
   "display_name": "Python 3",
   "language": "python",
   "name": "python3"
  },
  "language_info": {
   "codemirror_mode": {
    "name": "ipython",
    "version": 3
   },
   "file_extension": ".py",
   "mimetype": "text/x-python",
   "name": "python",
   "nbconvert_exporter": "python",
   "pygments_lexer": "ipython3",
   "version": "3.7.4"
  }
 },
 "nbformat": 4,
 "nbformat_minor": 4
}
